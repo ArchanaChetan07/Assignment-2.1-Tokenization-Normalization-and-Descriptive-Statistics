{
 "cells": [
  {
   "cell_type": "markdown",
   "id": "7f79baf9",
   "metadata": {},
   "source": [
    "# ADS 509 Assignment 2.1: Tokenization, Normalization, Descriptive Statistics \n",
    "\n",
    "This notebook holds Assignment 2.1 for Module 2 in ADS 509, Applied Text Mining. Work through this notebook, writing code and answering questions where required. \n",
    "\n",
    "In the previous assignment you put together Twitter data and lyrics data on two artists. In this assignment we explore some of the textual features of those data sets. If, for some reason, you did not complete that previous assignment, data to use for this assignment can be found in the assignment materials section of Blackboard. \n",
    "\n",
    "This assignment asks you to write a short function to calculate some descriptive statistics on a piece of text. Then you are asked to find some interesting and unique statistics on your corpora. \n"
   ]
  },
  {
   "cell_type": "markdown",
   "id": "aae8e2e1",
   "metadata": {},
   "source": [
    "## General Assignment Instructions\n",
    "\n",
    "These instructions are included in every assignment, to remind you of the coding standards for the class. Feel free to delete this cell after reading it. \n",
    "\n",
    "One sign of mature code is conforming to a style guide. We recommend the [Google Python Style Guide](https://google.github.io/styleguide/pyguide.html). If you use a different style guide, please include a cell with a link. \n",
    "\n",
    "Your code should be relatively easy-to-read, sensibly commented, and clean. Writing code is a messy process, so please be sure to edit your final submission. Remove any cells that are not needed or parts of cells that contain unnecessary code. Remove inessential `import` statements and make sure that all such statements are moved into the designated cell. \n",
    "\n",
    "Make use of non-code cells for written commentary. These cells should be grammatical and clearly written. In some of these cells you will have questions to answer. The questions will be marked by a \"Q:\" and will have a corresponding \"A:\" spot for you. *Make sure to answer every question marked with a `Q:` for full credit.* \n"
   ]
  },
  {
   "cell_type": "code",
   "execution_count": 56,
   "id": "e2d096b7",
   "metadata": {},
   "outputs": [],
   "source": [
    "import os\n",
    "import re\n",
    "import emoji\n",
    "import pandas as pd\n",
    "import numpy as np\n",
    "\n",
    "from collections import Counter, defaultdict\n",
    "from nltk.corpus import stopwords\n",
    "from string import punctuation\n",
    "\n",
    "sw = stopwords.words(\"english\")"
   ]
  },
  {
   "cell_type": "code",
   "execution_count": 57,
   "id": "6b555ab2",
   "metadata": {},
   "outputs": [],
   "source": [
    "# Add any additional import statements you need here\n",
    "\n",
    "import matplotlib.pyplot as plt\n",
    "import glob\n"
   ]
  },
  {
   "cell_type": "code",
   "execution_count": 58,
   "id": "923b5a86",
   "metadata": {},
   "outputs": [],
   "source": [
    "# change `data_location` to the location of the folder on your machine.\n",
    "data_location = r\"C:\\Users\\archa\\Desktop\\lyrics\\M1 Assignment Data\\M1 Results\"\n",
    "\n",
    "# These subfolders should still work if you correctly stored the \n",
    "# data from the Module 1 assignment\n",
    "twitter_folder = \"twitter/\"\n",
    "lyrics_folder = \"lyrics/\""
   ]
  },
  {
   "cell_type": "code",
   "execution_count": 59,
   "id": "06522af9",
   "metadata": {},
   "outputs": [],
   "source": [
    "def descriptive_stats(tokens, num_tokens = 5, verbose=True) :\n",
    "    \"\"\"\n",
    "    Given a list of tokens, print number of tokens, number of unique tokens, \n",
    "    number of characters, lexical diversity (https://en.wikipedia.org/wiki/Lexical_diversity), \n",
    "    and num_tokens most common tokens. Return a list with the number of tokens, number\n",
    "    of unique tokens, lexical diversity, and number of characters. \n",
    "    \"\"\"\n",
    "    num_tokens_val = len(tokens)\n",
    "    num_unique_tokens = len(set(tokens))\n",
    "    lexical_diversity = num_unique_tokens / num_tokens_val if num_tokens_val > 0 else 0\n",
    "    num_characters = sum(len(token) for token in tokens)\n",
    "    most_common = Counter(tokens).most_common(num_tokens)\n",
    "    \n",
    "    if verbose : \n",
    "        print(f\"There are {num_tokens_val} tokens in the data.\")\n",
    "        print(f\"There are {num_unique_tokens} unique tokens in the data.\")\n",
    "        print(f\"There are {num_characters} characters in the data.\")\n",
    "        print(f\"The lexical diversity is {lexical_diversity:.3f} in the data.\")\n",
    "        print(\"Most common tokens:\", most_common)\n",
    "    \n",
    "    return([num_tokens_val, num_unique_tokens, lexical_diversity, num_characters])\n",
    "\n",
    "    "
   ]
  },
  {
   "cell_type": "code",
   "execution_count": 60,
   "id": "59dcf058",
   "metadata": {},
   "outputs": [
    {
     "name": "stdout",
     "output_type": "stream",
     "text": [
      "There are 13 tokens in the data.\n",
      "There are 9 unique tokens in the data.\n",
      "There are 55 characters in the data.\n",
      "The lexical diversity is 0.692 in the data.\n",
      "Most common tokens: [('text', 3), ('here', 2), ('example', 2), ('is', 1), ('some', 1)]\n"
     ]
    }
   ],
   "source": [
    "text = \"\"\"here is some example text with other example text here in this text\"\"\".split()\n",
    "assert(descriptive_stats(text, verbose=True)[0] == 13)\n",
    "assert(descriptive_stats(text, verbose=False)[1] == 9)\n",
    "assert(abs(descriptive_stats(text, verbose=False)[2] - 0.69) < 0.02)\n",
    "assert(descriptive_stats(text, verbose=False)[3] == 55)\n",
    "\n"
   ]
  },
  {
   "cell_type": "markdown",
   "id": "d2e7e1a2",
   "metadata": {},
   "source": [
    "Q: Why is it beneficial to use assertion statements in your code? \n",
    "\n",
    "A: Benefits of Assertion Statements:\n",
    "Immediate Feedback for Errors:\n",
    "Assertions help catch bugs early by validating expected output. If something breaks, it fails immediately and loudly.\n",
    "Example: If the token count or lexical diversity is wrong, the assertion will raise an AssertionError right away.\n",
    "\n",
    "Acts as a Self-Test\n",
    "Assertions can act like unit tests inside your scripts or functions to ensure the code behaves as expected during changes or refactoring.\n",
    "Improves Code Reliability:\n",
    "\n",
    "Confirms that your logic is producing the correct results, which builds confidence in your data processing pipeline.\n",
    "Easier Debugging:\n",
    "When an assertion fails, it gives a clear indication of where the logic went wrong and what condition failed.\n",
    "\n",
    "Documentation for Expected Behavior:\n",
    "They act as documentation for what the expected input/output values should be in certain cases.\n",
    "\n"
   ]
  },
  {
   "cell_type": "markdown",
   "id": "9d3bf93e",
   "metadata": {},
   "source": [
    "## Data Input\n",
    "\n",
    "Now read in each of the corpora. For the lyrics data, it may be convenient to store the entire contents of the file to make it easier to inspect the titles individually, as you'll do in the last part of the assignment. In the solution, I stored the lyrics data in a dictionary with two dimensions of keys: artist and song. The value was the file contents. A data frame would work equally well. \n",
    "\n",
    "For the Twitter data, we only need the description field for this assignment. Feel free all the descriptions read it into a data structure. In the solution, I stored the descriptions as a dictionary of lists, with the key being the artist. \n",
    "\n",
    "\n"
   ]
  },
  {
   "cell_type": "code",
   "execution_count": 61,
   "id": "37d70801",
   "metadata": {},
   "outputs": [],
   "source": [
    "# Read in the lyrics data\n",
    "# We'll use a nested dictionary: lyrics_data[artist][song] = lyrics_text\n",
    "lyrics_data = defaultdict(dict)\n",
    "artists = [artist for artist in os.listdir(os.path.join(data_location, lyrics_folder)) if not artist.startswith('.')]\n",
    "\n",
    "for artist in artists:\n",
    "    artist_path = os.path.join(data_location, lyrics_folder, artist)\n",
    "    if not os.path.isdir(artist_path):\n",
    "        continue\n",
    "    for fname in os.listdir(artist_path):\n",
    "        if fname.endswith(\".txt\"):\n",
    "            song = fname[:-4]\n",
    "            with open(os.path.join(artist_path, fname), encoding='utf-8') as f:\n",
    "                lyrics_data[artist][song] = f.read()\n"
   ]
  },
  {
   "cell_type": "code",
   "execution_count": 62,
   "id": "debcac5a",
   "metadata": {},
   "outputs": [],
   "source": [
    "# Read in the twitter data\n",
    "# twitter_data[artist] = list of description strings\n",
    "twitter_data = defaultdict(list)\n",
    "for artist in artists:\n",
    "    twitter_file = os.path.join(data_location, twitter_folder, f\"{artist}_twitter.csv\")\n",
    "    if os.path.exists(twitter_file):\n",
    "        df = pd.read_csv(twitter_file)\n",
    "        if 'description' in df.columns:\n",
    "            twitter_data[artist] = df['description'].dropna().tolist()\n"
   ]
  },
  {
   "cell_type": "markdown",
   "id": "6a5f3b12",
   "metadata": {},
   "source": [
    "## Data Cleaning\n",
    "\n",
    "Now clean and tokenize your data. Remove punctuation chacters (available in the `punctuation` object in the `string` library), split on whitespace, fold to lowercase, and remove stopwords. Store your cleaned data, which must be accessible as an interable for `descriptive_stats`, in new objects or in new columns in your data frame. \n",
    "\n"
   ]
  },
  {
   "cell_type": "code",
   "execution_count": 63,
   "id": "71c73d86",
   "metadata": {},
   "outputs": [],
   "source": [
    "punctuation = set(punctuation) # speeds up comparison"
   ]
  },
  {
   "cell_type": "code",
   "execution_count": 64,
   "id": "b327033a",
   "metadata": {},
   "outputs": [],
   "source": [
    "from collections import defaultdict\n",
    "import os\n",
    "\n",
    "# Create your clean twitter data\n",
    "twitter_data = defaultdict(list)\n",
    "twitter_path = os.path.join(data_location, twitter_folder)\n",
    "\n",
    "for fname in os.listdir(twitter_path):\n",
    "    if fname.endswith(\".txt\"):\n",
    "        artist = fname.split(\"_\")[0]  # Extract artist name\n",
    "        with open(os.path.join(twitter_path, fname), encoding='utf-8') as f:\n",
    "            twitter_data[artist].append(f.read())\n",
    "\n",
    "# Clean twitter data\n",
    "clean_twitter_data = defaultdict(list)\n",
    "for artist, descriptions in twitter_data.items():\n",
    "    tokens = []\n",
    "    for desc in descriptions:\n",
    "        tokens.extend(clean_and_tokenize(desc))\n",
    "    clean_twitter_data[artist] = tokens\n",
    "\n"
   ]
  },
  {
   "cell_type": "code",
   "execution_count": 65,
   "id": "e0f22e10",
   "metadata": {},
   "outputs": [],
   "source": [
    "# create your clean lyrics data here\n",
    "# Clean lyrics data\n",
    "clean_lyrics_data = defaultdict(list)\n",
    "for artist, songs in lyrics_data.items():\n",
    "    tokens = []\n",
    "    for song, lyrics in songs.items():\n",
    "        tokens.extend(clean_and_tokenize(lyrics))\n",
    "    clean_lyrics_data[artist] = tokens\n"
   ]
  },
  {
   "cell_type": "code",
   "execution_count": 66,
   "id": "09120bb0",
   "metadata": {},
   "outputs": [
    {
     "name": "stdout",
     "output_type": "stream",
     "text": [
      "Number of characters: 31199459\n",
      "screen_name\tname\tid\tlocation\tfollowers_count\tfriends_count\tdescription\n",
      "AngelxoArts\tAngelxo\t1424055675030806529\tZacatlan, Puebla, Mexico\t29\t535\t\"I love chill\" •Facebook / Instagram / SoundCloud: AngelxoArts• https://t.co/447okKLKzA…\n",
      "songsfornikola\tjohnny\t1502717352575651840\t\t6\t318\tbooks, movies, music, nature & TV shows. OG Sweetee since '12 thanks to YouTube recommending 'This Feeling' on my homepage ♥️\n",
      "thibaud_lola\tThibaud Lola\t1502407708246478852\t\t3\t69\t(Am)auteur en herbe 🌱 - juriste en paille 🤡 - Ami des fleurs 🌸🌈 (sans la main verte) - music & books - #morecomingsoon... (si on en voit le bout)\n",
      "KyleSew2112\tKyle S 🌹🇬🇧🇺🇦\t3423966821\tSouth East London\t1258\t3444\tThis Twitter profile is full of sarcasm and rants with the occasional moan, dont like me dont follow me! KLF Stan Account Aspiring Youth Council rep\n",
      "MusiFlo\tMusiFlo\t3324069364\tCanada\t470\t1706\tFlora Youssef - Blogger & Founder Posting review articles about the latest music 🎵 https://t.co/dx4hoIom7T https://t.co/KsplT6mZzs\n",
      "Deyshaw3\n",
      "Number of tokens: 5137036\n",
      "['screen_name', 'name', 'id', 'location', 'followers_count', 'friends_count', 'description', 'AngelxoArts', 'Angelxo', '1424055675030806529']\n"
     ]
    }
   ],
   "source": [
    "file_path = \"M1 Assignment Data/M1 Results/twitter/robynkonichiwa_followers_data.txt\"\n",
    "\n",
    "with open(file_path, 'r', encoding='utf-8') as f:\n",
    "    content = f.read()\n",
    "\n",
    "print(f\"Number of characters: {len(content)}\")\n",
    "print(content[:1000])  # Preview first 1000 characters\n",
    "\n",
    "from nltk.tokenize import word_tokenize\n",
    "\n",
    "tokens = word_tokenize(content)\n",
    "print(f\"Number of tokens: {len(tokens)}\")\n",
    "print(tokens[:10])\n",
    "\n",
    "\n"
   ]
  },
  {
   "cell_type": "markdown",
   "id": "f2dd0179",
   "metadata": {},
   "source": [
    "## Basic Descriptive Statistics\n",
    "\n",
    "Call your `descriptive_stats` function on both your lyrics data and your twitter data and for both artists (four total calls). "
   ]
  },
  {
   "cell_type": "code",
   "execution_count": 67,
   "id": "f0bbedd9",
   "metadata": {},
   "outputs": [
    {
     "name": "stdout",
     "output_type": "stream",
     "text": [
      "\n",
      "Artist: cher (Twitter)\n",
      "There are 47800899 tokens in the data.\n",
      "There are 9873976 unique tokens in the data.\n",
      "There are 310204201 characters in the data.\n",
      "The lexical diversity is 0.207 in the data.\n",
      "Most common tokens: [('0', 338605), ('1', 294919), ('2', 244385), ('love', 232123), ('3', 204244)]\n",
      "\n",
      "Artist: cher (Lyrics)\n",
      "There are 32975 tokens in the data.\n",
      "There are 3555 unique tokens in the data.\n",
      "There are 159889 characters in the data.\n",
      "The lexical diversity is 0.108 in the data.\n",
      "Most common tokens: [('love', 1023), ('know', 488), ('oh', 325), ('time', 321), ('baby', 319)]\n",
      "\n",
      "Artist: robyn (Twitter)\n",
      "There are 0 tokens in the data.\n",
      "There are 0 unique tokens in the data.\n",
      "There are 0 characters in the data.\n",
      "The lexical diversity is 0.000 in the data.\n",
      "Most common tokens: []\n",
      "\n",
      "Artist: robyn (Lyrics)\n",
      "There are 13881 tokens in the data.\n",
      "There are 2098 unique tokens in the data.\n",
      "There are 68149 characters in the data.\n",
      "The lexical diversity is 0.151 in the data.\n",
      "Most common tokens: [('know', 308), ('love', 276), ('got', 251), ('like', 232), ('baby', 222)]\n"
     ]
    }
   ],
   "source": [
    "for artist in artists:\n",
    "    print(f\"\\nArtist: {artist} (Twitter)\")\n",
    "    descriptive_stats(clean_twitter_data[artist])\n",
    "    print(f\"\\nArtist: {artist} (Lyrics)\")\n",
    "    descriptive_stats(clean_lyrics_data[artist])\n"
   ]
  },
  {
   "cell_type": "markdown",
   "id": "46294409",
   "metadata": {},
   "source": [
    "Q: How do you think the \"top 5 words\" would be different if we left stopwords in the data? \n",
    "\n",
    "A: If stopwords were left in the data (words like \"the\", \"and\", \"is\", \"in\", etc.), the top 5 words would likely be dominated by these frequent but semantically shallow words. For example:\n",
    "Instead of emotionally or contextually rich words like \"love\", \"baby\", or \"know\",\n",
    "We might see words like \"the\", \"to\", \"and\", \"a\", \"in\" as the most common tokens.\n",
    "\n",
    "-----\n",
    "\n",
    "Q: What were your prior beliefs about the lexical diversity between the artists? Does the difference (or lack thereof) in lexical diversity between the artists conform to your prior beliefs? \n",
    "\n",
    "A: higher lexical diversity, especially in their lyrics. However, the actual results show:\n",
    "Cher’s Twitter: lexical diversity = 0.207\n",
    "Cher’s Lyrics: lexical diversity = 0.108\n",
    "Robyn’s Lyrics: lexical diversity = 0.151\n",
    "\n",
    "So, Robyn's lyrics did have a higher lexical diversity than Cher’s lyrics, which aligns with the belief that Robyn uses a broader vocabulary in songwriting.\n",
    "However, Cher’s Twitter data showed very high volume and a fair lexical diversity, which might indicate frequent and varied communication — more than expected.\n"
   ]
  },
  {
   "cell_type": "markdown",
   "id": "4d4e1ac1",
   "metadata": {},
   "source": [
    "\n",
    "## Specialty Statistics\n",
    "\n",
    "The descriptive statistics we have calculated are quite generic. You will now calculate a handful of statistics tailored to these data.\n",
    "\n",
    "1. Ten most common emojis by artist in the twitter descriptions.\n",
    "1. Ten most common hashtags by artist in the twitter descriptions.\n",
    "1. Five most common words in song titles by artist. \n",
    "1. For each artist, a histogram of song lengths (in terms of number of tokens) \n",
    "\n",
    "We can use the `emoji` library to help us identify emojis and you have been given a function to help you.\n"
   ]
  },
  {
   "cell_type": "code",
   "execution_count": 68,
   "id": "753a5a3e",
   "metadata": {},
   "outputs": [],
   "source": [
    "assert(emoji.is_emoji(\"❤️\"))\n",
    "assert(not emoji.is_emoji(\":-)\"))"
   ]
  },
  {
   "cell_type": "markdown",
   "id": "986fc4c0",
   "metadata": {},
   "source": [
    "### Emojis 😁\n",
    "\n",
    "What are the ten most common emojis by artist in the twitter descriptions? \n"
   ]
  },
  {
   "cell_type": "code",
   "execution_count": 69,
   "id": "269cd433",
   "metadata": {},
   "outputs": [
    {
     "name": "stdout",
     "output_type": "stream",
     "text": [
      "\n",
      "Artist: cher - Top 10 emojis:\n",
      "[('❤', 94506), ('🌈', 66291), ('♥', 48059), ('🏳', 47174), ('✨', 45846), ('🌊', 31234), ('💙', 31050), ('🏻', 25195), ('✌', 21963), ('💜', 21571)]\n",
      "\n",
      "Artist: robynkonichiwa - Top 10 emojis:\n",
      "[('🌈', 6086), ('❤', 5635), ('🏳', 4641), ('♥', 4249), ('✨', 3217), ('🏻', 1751), ('✌', 1495), ('♀', 1347), ('🏼', 1340), ('💙', 1200)]\n"
     ]
    }
   ],
   "source": [
    "# Your code here\n",
    "def extract_emojis(text):\n",
    "    return [ch for ch in text if emoji.is_emoji(ch)]\n",
    "\n",
    "for artist, descriptions in twitter_data.items():\n",
    "    all_emojis = []\n",
    "    for desc in descriptions:\n",
    "        all_emojis.extend(extract_emojis(desc))\n",
    "    print(f\"\\nArtist: {artist} - Top 10 emojis:\")\n",
    "    print(Counter(all_emojis).most_common(10))\n"
   ]
  },
  {
   "cell_type": "markdown",
   "id": "bab9b770",
   "metadata": {},
   "source": [
    "### Hashtags\n",
    "\n",
    "What are the ten most common hashtags by artist in the twitter descriptions? \n"
   ]
  },
  {
   "cell_type": "code",
   "execution_count": 70,
   "id": "07c396f1",
   "metadata": {},
   "outputs": [
    {
     "name": "stdout",
     "output_type": "stream",
     "text": [
      "\n",
      "Artist: cher - Top 10 hashtags:\n",
      "[('#resist', 11900), ('#blm', 11088), ('#blacklivesmatter', 8526), ('#theresistance', 3562), ('#fbr', 3513), ('#resistance', 3114), ('#1', 3111), ('#voteblue', 2363), ('#lgbtq', 2082), ('#music', 1610)]\n",
      "\n",
      "Artist: robynkonichiwa - Top 10 hashtags:\n",
      "[('#blacklivesmatter', 643), ('#blm', 405), ('#music', 308), ('#1', 228), ('#teamfollowback', 136), ('#edm', 112), ('#lgbtq', 90), ('#resist', 89), ('#travel', 73), ('#love', 73)]\n"
     ]
    }
   ],
   "source": [
    "# Your code here\n",
    "hashtag_pattern = re.compile(r\"#\\w+\")\n",
    "for artist, descriptions in twitter_data.items():\n",
    "    hashtags = []\n",
    "    for desc in descriptions:\n",
    "        hashtags.extend(hashtag_pattern.findall(desc.lower()))\n",
    "    print(f\"\\nArtist: {artist} - Top 10 hashtags:\")\n",
    "    print(Counter(hashtags).most_common(10))\n"
   ]
  },
  {
   "cell_type": "markdown",
   "id": "d10f21d5",
   "metadata": {},
   "source": [
    "### Song Titles\n",
    "\n",
    "What are the five most common words in song titles by artist? The song titles should be on the first line of the lyrics pages, so if you have kept the raw file contents around, you will not need to re-read the data.\n"
   ]
  },
  {
   "cell_type": "code",
   "execution_count": 72,
   "id": "bb69b36b",
   "metadata": {},
   "outputs": [
    {
     "name": "stdout",
     "output_type": "stream",
     "text": [
      "\n",
      "Artist: cher - Top 5 title words:\n",
      "[('love', 38), ('man', 15), ('song', 11), ('come', 7), ('one', 7)]\n",
      "\n",
      "Artist: robyn - Top 5 title words:\n",
      "[('love', 6), ('u', 4), ('thing', 3), ('girl', 3), ('tell', 3)]\n"
     ]
    }
   ],
   "source": [
    "# Your code here\n",
    "for artist, songs in lyrics_data.items():\n",
    "    title_words = []\n",
    "    for song, lyrics in songs.items():\n",
    "        # Assume title is first line\n",
    "        title = lyrics.splitlines()[0] if lyrics else \"\"\n",
    "        title_words.extend(clean_and_tokenize(title))\n",
    "    print(f\"\\nArtist: {artist} - Top 5 title words:\")\n",
    "    print(Counter(title_words).most_common(5))\n"
   ]
  },
  {
   "cell_type": "markdown",
   "id": "5dd4fd71",
   "metadata": {},
   "source": [
    "### Song Lengths\n",
    "\n",
    "For each artist, a histogram of song lengths (in terms of number of tokens). If you put the song lengths in a data frame with an artist column, matplotlib will make the plotting quite easy. An example is given to help you out. \n"
   ]
  },
  {
   "cell_type": "code",
   "execution_count": 73,
   "id": "805a1e52",
   "metadata": {},
   "outputs": [
    {
     "data": {
      "text/plain": [
       "artist\n",
       "Artist 1    Axes(0.125,0.11;0.775x0.77)\n",
       "Artist 2    Axes(0.125,0.11;0.775x0.77)\n",
       "Name: length, dtype: object"
      ]
     },
     "execution_count": 73,
     "metadata": {},
     "output_type": "execute_result"
    },
    {
     "data": {
      "image/png": "[encoded data removed]",
      "text/plain": [
       "<Figure size 640x480 with 1 Axes>"
      ]
     },
     "metadata": {},
     "output_type": "display_data"
    }
   ],
   "source": [
    "num_replicates = 1000\n",
    "\n",
    "df = pd.DataFrame({\n",
    "    \"artist\" : ['Artist 1'] * num_replicates + ['Artist 2']*num_replicates,\n",
    "    \"length\" : np.concatenate((np.random.poisson(125,num_replicates),np.random.poisson(150,num_replicates)))\n",
    "})\n",
    "\n",
    "df.groupby('artist')['length'].plot(kind=\"hist\",density=True,alpha=0.5,legend=True)"
   ]
  },
  {
   "cell_type": "markdown",
   "id": "8fde9ebb",
   "metadata": {},
   "source": [
    "Since the lyrics may be stored with carriage returns or tabs, it may be useful to have a function that can collapse whitespace, using regular expressions, and be used for splitting. \n",
    "\n",
    "Q: What does the regular expression `'\\s+'` match on? \n",
    "\n",
    "A: The regex pattern \\s+ matches one or more whitespace characters.\n",
    "This includes:\n",
    "Space ( )\n",
    "\n",
    "Tab (\\t)\n",
    "\n",
    "Newline (\\n)\n",
    "\n",
    "Carriage return (\\r)\n",
    "\n",
    "Form feed (\\f)\n",
    "\n",
    "Vertical tab (\\v)\n",
    "\n",
    "The + quantifier means “one or more”, so \\s+ will match:\n",
    "\n",
    "A single space\n",
    "\n",
    "Multiple consecutive spaces\n",
    "\n",
    "A mix of different whitespace types\n"
   ]
  },
  {
   "cell_type": "code",
   "execution_count": 74,
   "id": "f0e34516",
   "metadata": {},
   "outputs": [],
   "source": [
    "collapse_whitespace = re.compile(r'\\s+')\n",
    "\n",
    "def tokenize_lyrics(lyric) : \n",
    "    \"\"\"strip and split on whitespace\"\"\"\n",
    "    return([item.lower() for item in collapse_whitespace.split(lyric)])"
   ]
  },
  {
   "cell_type": "code",
   "execution_count": 75,
   "id": "2294c440",
   "metadata": {},
   "outputs": [
    {
     "data": {
      "image/png": "[encoded data removed]",
      "text/plain": [
       "<Figure size 1000x600 with 1 Axes>"
      ]
     },
     "metadata": {},
     "output_type": "display_data"
    }
   ],
   "source": [
    "# Your lyric length comparison chart here.\n",
    "song_lengths = []  # ✅ initialize the list\n",
    "\n",
    "for artist, songs in lyrics_data.items():\n",
    "    for song, lyrics in songs.items():\n",
    "        tokens = clean_and_tokenize(lyrics)\n",
    "        song_lengths.append({'artist': artist, 'length': len(tokens)})\n",
    "\n",
    "df_lengths = pd.DataFrame(song_lengths)\n",
    "plt.figure(figsize=(10, 6))\n",
    "\n",
    "for artist in df_lengths['artist'].unique():\n",
    "    df_lengths[df_lengths['artist'] == artist]['length'].plot(kind=\"hist\", density=True, alpha=0.5, label=artist)\n",
    "\n",
    "plt.xlabel('Song Length (tokens)')\n",
    "plt.ylabel('Density')\n",
    "plt.title('Histogram of Song Lengths by Artist')\n",
    "plt.legend()\n",
    "plt.show()\n",
    "\n",
    " "
   ]
  },
  {
   "cell_type": "code",
   "execution_count": 76,
   "id": "fa325ed6",
   "metadata": {},
   "outputs": [],
   "source": [
    "collapse_whitespace = re.compile(r'\\s+')\n",
    "\n",
    "def tokenize_lyrics(lyric) : \n",
    "    \"\"\"strip and split on whitespace\"\"\"\n",
    "    return([item.lower() for item in collapse_whitespace.split(lyric) if item])\n"
   ]
  },
  {
   "cell_type": "code",
   "execution_count": 77,
   "id": "2f1c54c5",
   "metadata": {},
   "outputs": [
    {
     "data": {
      "image/png": "[encoded data removed]",
      "text/plain": [
       "<Figure size 1000x600 with 1 Axes>"
      ]
     },
     "metadata": {},
     "output_type": "display_data"
    }
   ],
   "source": [
    "# Already done above with song_lengths and df_lengths.\n",
    "# If you want to use the tokenize_lyrics function instead of clean_and_tokenize:\n",
    "song_lengths = []\n",
    "for artist, songs in lyrics_data.items():\n",
    "    for song, lyrics in songs.items():\n",
    "        tokens = tokenize_lyrics(lyrics)\n",
    "        song_lengths.append({'artist': artist, 'length': len(tokens)})\n",
    "\n",
    "df_lengths = pd.DataFrame(song_lengths)\n",
    "plt.figure(figsize=(10, 6))\n",
    "for artist in df_lengths['artist'].unique():\n",
    "    df_lengths[df_lengths['artist'] == artist]['length'].plot(kind=\"hist\", density=True, alpha=0.5, label=artist)\n",
    "plt.xlabel('Song Length (tokens)')\n",
    "plt.ylabel('Density')\n",
    "plt.title('Histogram of Song Lengths by Artist')\n",
    "plt.legend()\n",
    "plt.show()\n"
   ]
  }
 ],
 "metadata": {
  "kernelspec": {
   "display_name": "lyrics_env",
   "language": "python",
   "name": "python3"
  },
  "language_info": {
   "codemirror_mode": {
    "name": "ipython",
    "version": 3
   },
   "file_extension": ".py",
   "mimetype": "text/x-python",
   "name": "python",
   "nbconvert_exporter": "python",
   "pygments_lexer": "ipython3",
   "version": "3.11.5"
  }
 },
 "nbformat": 4,
 "nbformat_minor": 5
}
